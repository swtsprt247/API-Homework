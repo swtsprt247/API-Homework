{
 "cells": [
  {
   "cell_type": "code",
   "execution_count": 80,
   "metadata": {
    "collapsed": true
   },
   "outputs": [],
   "source": [
    "import os\n",
    "import random\n",
    "import openweathermapy.core as ow\n",
    "import requests\n",
    "import matplotlib.pyplot as plt\n",
    "import pandas as pd\n",
    "import numpy as np\n",
    "from citipy import citipy\n",
    "api_key = \"8b470b618b32d04717d95d67a3997c16\"\n",
    "url = \"http://api.openweathermap.org/data/2.5/weather?\"\n",
    "units = \"imperial\"\n"
   ]
  },
  {
   "cell_type": "code",
   "execution_count": null,
   "metadata": {
    "collapsed": true
   },
   "outputs": [],
   "source": []
  },
  {
   "cell_type": "code",
   "execution_count": 92,
   "metadata": {
    "collapsed": true
   },
   "outputs": [],
   "source": [
    "#Generate random numbers\n",
    "Long = np.random.uniform(-180,180,550)\n",
    "Lat =  np.random.uniform(-90,90,550)\n",
    "\n"
   ]
  },
  {
   "cell_type": "code",
   "execution_count": 93,
   "metadata": {},
   "outputs": [
    {
     "data": {
      "text/html": [
       "<div>\n",
       "<style>\n",
       "    .dataframe thead tr:only-child th {\n",
       "        text-align: right;\n",
       "    }\n",
       "\n",
       "    .dataframe thead th {\n",
       "        text-align: left;\n",
       "    }\n",
       "\n",
       "    .dataframe tbody tr th {\n",
       "        vertical-align: top;\n",
       "    }\n",
       "</style>\n",
       "<table border=\"1\" class=\"dataframe\">\n",
       "  <thead>\n",
       "    <tr style=\"text-align: right;\">\n",
       "      <th></th>\n",
       "      <th>Lat</th>\n",
       "      <th>Long</th>\n",
       "    </tr>\n",
       "  </thead>\n",
       "  <tbody>\n",
       "    <tr>\n",
       "      <th>0</th>\n",
       "      <td>-71.066785</td>\n",
       "      <td>-136.044560</td>\n",
       "    </tr>\n",
       "    <tr>\n",
       "      <th>1</th>\n",
       "      <td>-82.933394</td>\n",
       "      <td>-131.253388</td>\n",
       "    </tr>\n",
       "    <tr>\n",
       "      <th>2</th>\n",
       "      <td>-62.923891</td>\n",
       "      <td>-34.202476</td>\n",
       "    </tr>\n",
       "    <tr>\n",
       "      <th>3</th>\n",
       "      <td>-81.129259</td>\n",
       "      <td>-172.496532</td>\n",
       "    </tr>\n",
       "    <tr>\n",
       "      <th>4</th>\n",
       "      <td>6.184056</td>\n",
       "      <td>22.904226</td>\n",
       "    </tr>\n",
       "  </tbody>\n",
       "</table>\n",
       "</div>"
      ],
      "text/plain": [
       "         Lat        Long\n",
       "0 -71.066785 -136.044560\n",
       "1 -82.933394 -131.253388\n",
       "2 -62.923891  -34.202476\n",
       "3 -81.129259 -172.496532\n",
       "4   6.184056   22.904226"
      ]
     },
     "execution_count": 93,
     "metadata": {},
     "output_type": "execute_result"
    }
   ],
   "source": [
    "#Make Coordinates to dataframs\n",
    "Coordinates = {\"Long\": Long, \"Lat\": Lat}\n",
    "Coordinates_df = pd.DataFrame(Coordinates)\n",
    "Coordinates_df.head()"
   ]
  },
  {
   "cell_type": "code",
   "execution_count": 94,
   "metadata": {
    "collapsed": true
   },
   "outputs": [],
   "source": [
    "city_coordinates = Coordinates_df.as_matrix()"
   ]
  },
  {
   "cell_type": "code",
   "execution_count": 95,
   "metadata": {},
   "outputs": [],
   "source": [
    "#loop through coordinates\n",
    "cities = []\n",
    "\n",
    "for coordinate_pair in city_coordinates:\n",
    "    lat, lon = coordinate_pair\n",
    "    cities.append(citipy.nearest_city(lat, lon).city_name)\n",
    "    \n"
   ]
  },
  {
   "cell_type": "code",
   "execution_count": 96,
   "metadata": {},
   "outputs": [
    {
     "data": {
      "text/plain": [
       "'http://api.openweathermap.org/data/2.5/weather?appid=8b470b618b32d04717d95d67a3997c16&units=imperial&q='"
      ]
     },
     "execution_count": 96,
     "metadata": {},
     "output_type": "execute_result"
    }
   ],
   "source": [
    "#Build Query url\n",
    "query_url = url + \"appid=\" + api_key + \"&units=\" + units + \"&q=\"\n",
    "query_url"
   ]
  },
  {
   "cell_type": "code",
   "execution_count": null,
   "metadata": {
    "collapsed": true
   },
   "outputs": [],
   "source": []
  },
  {
   "cell_type": "code",
   "execution_count": 97,
   "metadata": {},
   "outputs": [
    {
     "name": "stdout",
     "output_type": "stream",
     "text": [
      "Ooops, the city can not be found!\n",
      "Ooops, the city can not be found!\n",
      "Ooops, the city can not be found!\n",
      "Ooops, the city can not be found!\n",
      "Ooops, the city can not be found!\n",
      "Ooops, the city can not be found!\n",
      "Ooops, the city can not be found!\n",
      "Ooops, the city can not be found!\n",
      "Ooops, the city can not be found!\n",
      "Ooops, the city can not be found!\n",
      "Ooops, the city can not be found!\n",
      "Ooops, the city can not be found!\n",
      "Ooops, the city can not be found!\n",
      "Ooops, the city can not be found!\n",
      "Ooops, the city can not be found!\n",
      "Ooops, the city can not be found!\n",
      "Ooops, the city can not be found!\n",
      "Ooops, the city can not be found!\n",
      "Ooops, the city can not be found!\n",
      "Ooops, the city can not be found!\n",
      "Ooops, the city can not be found!\n",
      "Ooops, the city can not be found!\n",
      "Ooops, the city can not be found!\n",
      "Ooops, the city can not be found!\n",
      "Ooops, the city can not be found!\n",
      "Ooops, the city can not be found!\n",
      "Ooops, the city can not be found!\n",
      "Ooops, the city can not be found!\n",
      "Ooops, the city can not be found!\n",
      "Ooops, the city can not be found!\n",
      "Ooops, the city can not be found!\n",
      "Ooops, the city can not be found!\n",
      "Ooops, the city can not be found!\n",
      "Ooops, the city can not be found!\n",
      "Ooops, the city can not be found!\n",
      "Ooops, the city can not be found!\n",
      "Ooops, the city can not be found!\n",
      "Ooops, the city can not be found!\n",
      "Ooops, the city can not be found!\n",
      "Ooops, the city can not be found!\n",
      "Ooops, the city can not be found!\n",
      "Ooops, the city can not be found!\n",
      "Ooops, the city can not be found!\n",
      "Ooops, the city can not be found!\n",
      "Ooops, the city can not be found!\n",
      "Ooops, the city can not be found!\n",
      "Ooops, the city can not be found!\n",
      "Ooops, the city can not be found!\n",
      "Ooops, the city can not be found!\n",
      "Ooops, the city can not be found!\n",
      "Ooops, the city can not be found!\n",
      "Ooops, the city can not be found!\n",
      "Ooops, the city can not be found!\n",
      "Ooops, the city can not be found!\n",
      "Ooops, the city can not be found!\n",
      "Ooops, the city can not be found!\n",
      "Ooops, the city can not be found!\n",
      "Ooops, the city can not be found!\n",
      "Ooops, the city can not be found!\n",
      "Ooops, the city can not be found!\n",
      "Ooops, the city can not be found!\n",
      "Ooops, the city can not be found!\n",
      "Ooops, the city can not be found!\n",
      "Ooops, the city can not be found!\n",
      "Ooops, the city can not be found!\n",
      "Ooops, the city can not be found!\n",
      "Ooops, the city can not be found!\n",
      "Ooops, the city can not be found!\n",
      "Ooops, the city can not be found!\n",
      "Thats the end of the list\n"
     ]
    }
   ],
   "source": [
    "weather_data = []\n",
    "temp_list = []\n",
    "humidity_list = []\n",
    "clouds_list = []\n",
    "wind_list = []\n",
    "lat_list = []\n",
    "long_list =[]\n",
    "    \n",
    "for city in cities:\n",
    "    try:\n",
    "        \n",
    "        response = requests.get(query_url + city).json()\n",
    "        #print(response)\n",
    "        temp_data = response['main']['temp']\n",
    "        humidity_data = response['main'][\"humidity\"]\n",
    "        clouds_data = response[\"clouds\"][\"all\"]\n",
    "        wind_data = response[\"wind\"][\"speed\"]\n",
    "        lat_data = response[\"coord\"][\"lat\"]\n",
    "        long_data = response[\"coord\"][\"lon\"]\n",
    "    except KeyError:\n",
    "        print(\"Ooops, the city can not be found!\")\n",
    "    \n",
    "    #weather_data.append(response)\n",
    "    temp_list.append(temp_data)\n",
    "    humidity_list.append(humidity_data)\n",
    "    clouds_list.append(clouds_data)\n",
    "    wind_list.append(wind_data)\n",
    "    lat_list.append(lat_data)\n",
    "    long_list.append(long_data)\n",
    "    \n",
    "print(\"Thats the end of the list\")"
   ]
  },
  {
   "cell_type": "code",
   "execution_count": 98,
   "metadata": {},
   "outputs": [
    {
     "data": {
      "text/plain": [
       "92.24"
      ]
     },
     "execution_count": 98,
     "metadata": {},
     "output_type": "execute_result"
    }
   ],
   "source": [
    "temp_data"
   ]
  },
  {
   "cell_type": "code",
   "execution_count": 99,
   "metadata": {},
   "outputs": [
    {
     "data": {
      "text/plain": [
       "56"
      ]
     },
     "execution_count": 99,
     "metadata": {},
     "output_type": "execute_result"
    }
   ],
   "source": [
    "humidity_data"
   ]
  },
  {
   "cell_type": "code",
   "execution_count": null,
   "metadata": {
    "collapsed": true
   },
   "outputs": [],
   "source": [
    "\n"
   ]
  },
  {
   "cell_type": "code",
   "execution_count": 100,
   "metadata": {},
   "outputs": [
    {
     "data": {
      "text/html": [
       "<div>\n",
       "<style>\n",
       "    .dataframe thead tr:only-child th {\n",
       "        text-align: right;\n",
       "    }\n",
       "\n",
       "    .dataframe thead th {\n",
       "        text-align: left;\n",
       "    }\n",
       "\n",
       "    .dataframe tbody tr th {\n",
       "        vertical-align: top;\n",
       "    }\n",
       "</style>\n",
       "<table border=\"1\" class=\"dataframe\">\n",
       "  <thead>\n",
       "    <tr style=\"text-align: right;\">\n",
       "      <th></th>\n",
       "      <th>Cities</th>\n",
       "      <th>Cloudiness (%)</th>\n",
       "      <th>Humidity (%)</th>\n",
       "      <th>Latitude</th>\n",
       "      <th>Longitude</th>\n",
       "      <th>Temperature (F)</th>\n",
       "      <th>Wind Speed (MPH)</th>\n",
       "    </tr>\n",
       "  </thead>\n",
       "  <tbody>\n",
       "    <tr>\n",
       "      <th>0</th>\n",
       "      <td>rikitea</td>\n",
       "      <td>76</td>\n",
       "      <td>99</td>\n",
       "      <td>-23.12</td>\n",
       "      <td>138.6</td>\n",
       "      <td>80.13</td>\n",
       "      <td>17.47</td>\n",
       "    </tr>\n",
       "    <tr>\n",
       "      <th>1</th>\n",
       "      <td>rikitea</td>\n",
       "      <td>76</td>\n",
       "      <td>99</td>\n",
       "      <td>-23.12</td>\n",
       "      <td>138.6</td>\n",
       "      <td>80.13</td>\n",
       "      <td>17.47</td>\n",
       "    </tr>\n",
       "    <tr>\n",
       "      <th>2</th>\n",
       "      <td>mar del plata</td>\n",
       "      <td>0</td>\n",
       "      <td>55</td>\n",
       "      <td>-46.43</td>\n",
       "      <td>138.6</td>\n",
       "      <td>62.63</td>\n",
       "      <td>20.38</td>\n",
       "    </tr>\n",
       "    <tr>\n",
       "      <th>3</th>\n",
       "      <td>vaini</td>\n",
       "      <td>0</td>\n",
       "      <td>43</td>\n",
       "      <td>15.34</td>\n",
       "      <td>138.6</td>\n",
       "      <td>83.87</td>\n",
       "      <td>4.38</td>\n",
       "    </tr>\n",
       "    <tr>\n",
       "      <th>4</th>\n",
       "      <td>bria</td>\n",
       "      <td>0</td>\n",
       "      <td>58</td>\n",
       "      <td>6.54</td>\n",
       "      <td>138.6</td>\n",
       "      <td>64.34</td>\n",
       "      <td>12.77</td>\n",
       "    </tr>\n",
       "  </tbody>\n",
       "</table>\n",
       "</div>"
      ],
      "text/plain": [
       "          Cities  Cloudiness (%)  Humidity (%)  Latitude  Longitude  \\\n",
       "0        rikitea              76            99    -23.12      138.6   \n",
       "1        rikitea              76            99    -23.12      138.6   \n",
       "2  mar del plata               0            55    -46.43      138.6   \n",
       "3          vaini               0            43     15.34      138.6   \n",
       "4           bria               0            58      6.54      138.6   \n",
       "\n",
       "   Temperature (F)  Wind Speed (MPH)  \n",
       "0            80.13             17.47  \n",
       "1            80.13             17.47  \n",
       "2            62.63             20.38  \n",
       "3            83.87              4.38  \n",
       "4            64.34             12.77  "
      ]
     },
     "execution_count": 100,
     "metadata": {},
     "output_type": "execute_result"
    }
   ],
   "source": [
    "weather_report = {\"Temperature (F)\": temp_list, \"Humidity (%)\": humidity_list, \"Cloudiness (%)\": clouds_list, \"Wind Speed (MPH)\": wind_list, \"Latitude\": lat_list,\"Longitude\": long_data, \"Cities\": cities}\n",
    "\n",
    "weather_report_df = pd.DataFrame(weather_report)\n",
    "\n",
    "\n",
    "weather_report_df.to_csv(\"weather_report.csv\")\n",
    "\n",
    "weather_report_df.head()"
   ]
  },
  {
   "cell_type": "code",
   "execution_count": 101,
   "metadata": {},
   "outputs": [
    {
     "data": {
      "text/html": [
       "<div>\n",
       "<style>\n",
       "    .dataframe thead tr:only-child th {\n",
       "        text-align: right;\n",
       "    }\n",
       "\n",
       "    .dataframe thead th {\n",
       "        text-align: left;\n",
       "    }\n",
       "\n",
       "    .dataframe tbody tr th {\n",
       "        vertical-align: top;\n",
       "    }\n",
       "</style>\n",
       "<table border=\"1\" class=\"dataframe\">\n",
       "  <thead>\n",
       "    <tr style=\"text-align: right;\">\n",
       "      <th></th>\n",
       "      <th>Unnamed: 0</th>\n",
       "      <th>Cities</th>\n",
       "      <th>Cloudiness (%)</th>\n",
       "      <th>Humidity (%)</th>\n",
       "      <th>Latitude</th>\n",
       "      <th>Longitude</th>\n",
       "      <th>Temperature (F)</th>\n",
       "      <th>Wind Speed (MPH)</th>\n",
       "    </tr>\n",
       "  </thead>\n",
       "  <tbody>\n",
       "    <tr>\n",
       "      <th>0</th>\n",
       "      <td>0</td>\n",
       "      <td>rikitea</td>\n",
       "      <td>76</td>\n",
       "      <td>99</td>\n",
       "      <td>-23.12</td>\n",
       "      <td>138.6</td>\n",
       "      <td>80.13</td>\n",
       "      <td>17.47</td>\n",
       "    </tr>\n",
       "    <tr>\n",
       "      <th>1</th>\n",
       "      <td>1</td>\n",
       "      <td>rikitea</td>\n",
       "      <td>76</td>\n",
       "      <td>99</td>\n",
       "      <td>-23.12</td>\n",
       "      <td>138.6</td>\n",
       "      <td>80.13</td>\n",
       "      <td>17.47</td>\n",
       "    </tr>\n",
       "    <tr>\n",
       "      <th>2</th>\n",
       "      <td>2</td>\n",
       "      <td>mar del plata</td>\n",
       "      <td>0</td>\n",
       "      <td>55</td>\n",
       "      <td>-46.43</td>\n",
       "      <td>138.6</td>\n",
       "      <td>62.63</td>\n",
       "      <td>20.38</td>\n",
       "    </tr>\n",
       "    <tr>\n",
       "      <th>3</th>\n",
       "      <td>3</td>\n",
       "      <td>vaini</td>\n",
       "      <td>0</td>\n",
       "      <td>43</td>\n",
       "      <td>15.34</td>\n",
       "      <td>138.6</td>\n",
       "      <td>83.87</td>\n",
       "      <td>4.38</td>\n",
       "    </tr>\n",
       "    <tr>\n",
       "      <th>4</th>\n",
       "      <td>4</td>\n",
       "      <td>bria</td>\n",
       "      <td>0</td>\n",
       "      <td>58</td>\n",
       "      <td>6.54</td>\n",
       "      <td>138.6</td>\n",
       "      <td>64.34</td>\n",
       "      <td>12.77</td>\n",
       "    </tr>\n",
       "  </tbody>\n",
       "</table>\n",
       "</div>"
      ],
      "text/plain": [
       "   Unnamed: 0         Cities  Cloudiness (%)  Humidity (%)  Latitude  \\\n",
       "0           0        rikitea              76            99    -23.12   \n",
       "1           1        rikitea              76            99    -23.12   \n",
       "2           2  mar del plata               0            55    -46.43   \n",
       "3           3          vaini               0            43     15.34   \n",
       "4           4           bria               0            58      6.54   \n",
       "\n",
       "   Longitude  Temperature (F)  Wind Speed (MPH)  \n",
       "0      138.6            80.13             17.47  \n",
       "1      138.6            80.13             17.47  \n",
       "2      138.6            62.63             20.38  \n",
       "3      138.6            83.87              4.38  \n",
       "4      138.6            64.34             12.77  "
      ]
     },
     "execution_count": 101,
     "metadata": {},
     "output_type": "execute_result"
    }
   ],
   "source": [
    "file_name = os.path.join(\"weather_report.csv\")\n",
    "report_df = pd.read_csv(file_name)\n",
    "report_df.head()"
   ]
  },
  {
   "cell_type": "code",
   "execution_count": null,
   "metadata": {
    "collapsed": true
   },
   "outputs": [],
   "source": []
  },
  {
   "cell_type": "code",
   "execution_count": 106,
   "metadata": {},
   "outputs": [
    {
     "data": {
      "image/png": "[encoded data removed]",
      "text/plain": [
       "<matplotlib.figure.Figure at 0x2069035af28>"
      ]
     },
     "metadata": {},
     "output_type": "display_data"
    }
   ],
   "source": [
    "report_df.plot.scatter(x='Latitude', y=\"Temperature (F)\")\n",
    "plt.xlabel(\"Latitude\")\n",
    "plt.ylabel(\"Max Temperature (F)\")\n",
    "plt.title('City Latitude vs. Max Temperature Jan 26th, 2018')\n",
    "plt.style.use('seaborn-dark')\n",
    "plt.grid(True)\n",
    "\n",
    "plt.savefig(\"City_Lat vs Temperature\")\n",
    "plt.show()"
   ]
  },
  {
   "cell_type": "code",
   "execution_count": 107,
   "metadata": {},
   "outputs": [
    {
     "data": {
      "image/png": "[encoded data removed]",
      "text/plain": [
       "<matplotlib.figure.Figure at 0x2068eaea128>"
      ]
     },
     "metadata": {},
     "output_type": "display_data"
    }
   ],
   "source": [
    "report_df.plot.scatter(x='Latitude', y=\"Humidity (%)\")\n",
    "plt.xlabel(\"Latitude\")\n",
    "plt.ylabel(\"Humidity (%)\")\n",
    "plt.title('City Latitude vs. Humidity Jan 26th, 2018')\n",
    "plt.style.use('seaborn-dark')\n",
    "plt.grid(True)\n",
    "\n",
    "plt.savefig(\"City_Lat vs Humidity\")\n",
    "plt.show()"
   ]
  },
  {
   "cell_type": "code",
   "execution_count": 108,
   "metadata": {},
   "outputs": [
    {
     "data": {
      "image/png": "[encoded data removed]",
      "text/plain": [
       "<matplotlib.figure.Figure at 0x20690475a20>"
      ]
     },
     "metadata": {},
     "output_type": "display_data"
    }
   ],
   "source": [
    "report_df.plot.scatter(x='Latitude', y=\"Cloudiness (%)\")\n",
    "plt.xlabel(\"Latitude\")\n",
    "plt.ylabel(\"Cloudiness (%)\")\n",
    "plt.title('City Latitude vs. Cloudiness Jan 26th, 2018')\n",
    "plt.style.use('seaborn-dark')\n",
    "plt.grid(True)\n",
    "\n",
    "plt.savefig(\"City_Lat vs Cloudiness\")\n",
    "plt.show()"
   ]
  },
  {
   "cell_type": "code",
   "execution_count": 109,
   "metadata": {},
   "outputs": [
    {
     "data": {
      "image/png": "[encoded data removed]",
      "text/plain": [
       "<matplotlib.figure.Figure at 0x206904d3470>"
      ]
     },
     "metadata": {},
     "output_type": "display_data"
    }
   ],
   "source": [
    "report_df.plot.scatter(x='Latitude', y=\"Wind Speed (MPH)\")\n",
    "plt.xlabel(\"Latitude\")\n",
    "plt.ylabel(\"Wind Speed (MPH)\")\n",
    "plt.title('City Latitude vs. Wind Speed Jan 26th, 2018')\n",
    "plt.style.use('seaborn-dark')\n",
    "plt.grid(True)\n",
    "\n",
    "plt.savefig(\"City_Lat vs Wind Speed\")\n",
    "plt.show()"
   ]
  },
  {
   "cell_type": "code",
   "execution_count": null,
   "metadata": {
    "collapsed": true
   },
   "outputs": [],
   "source": []
  }
 ],
 "metadata": {
  "kernelspec": {
   "display_name": "Python 3",
   "language": "python",
   "name": "python3"
  },
  "language_info": {
   "codemirror_mode": {
    "name": "ipython",
    "version": 3
   },
   "file_extension": ".py",
   "mimetype": "text/x-python",
   "name": "python",
   "nbconvert_exporter": "python",
   "pygments_lexer": "ipython3",
   "version": "3.6.3"
  }
 },
 "nbformat": 4,
 "nbformat_minor": 2
}
